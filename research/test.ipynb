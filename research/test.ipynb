{
 "cells": [
  {
   "cell_type": "code",
   "execution_count": 1,
   "metadata": {},
   "outputs": [],
   "source": [
    "%load_ext autoreload\n",
    "%autoreload 2"
   ]
  },
  {
   "cell_type": "code",
   "execution_count": 2,
   "metadata": {},
   "outputs": [
    {
     "ename": "SyntaxError",
     "evalue": "invalid syntax (fit.py, line 71)",
     "output_type": "error",
     "traceback": [
      "Traceback \u001b[0;36m(most recent call last)\u001b[0m:\n",
      "\u001b[0m  File \u001b[1;32m~/miniforge3/envs/py311/lib/python3.11/site-packages/IPython/core/interactiveshell.py:3433\u001b[0m in \u001b[1;35mrun_code\u001b[0m\n    exec(code_obj, self.user_global_ns, self.user_ns)\u001b[0m\n",
      "\u001b[0m  Cell \u001b[1;32mIn [2], line 1\u001b[0m\n    import pyparetomixture as pm\u001b[0m\n",
      "\u001b[0;36m  File \u001b[0;32m~/Informatics/pareto_mixture/src/pyparetomixture/__init__.py:1\u001b[0;36m\n\u001b[0;31m    from .fit import ParetoMixture, Sample, Gradient, Hessian, gradient, hessian\u001b[0;36m\n",
      "\u001b[0;36m  File \u001b[0;32m~/Informatics/pareto_mixture/src/pyparetomixture/fit.py:71\u001b[0;36m\u001b[0m\n\u001b[0;31m    (alpha*p*x**(-alpha - 1)*np.(x)**2 - 2*p*x**(-alpha - 1)*np.log(x) - x**(-alpha - beta - 1)*(1 - p)*(-alpha - beta)*np.log(x)**2 - 2*x**(-alpha - beta - 1)*(1 - p)*np.log(x))/(alpha*p*x**(-alpha - 1) - x**(-alpha - beta - 1)*(1 - p)*(-alpha - beta)) + (-alpha*p*x**(-alpha - 1)*np.log(x) + p*x**(-alpha - 1) + x**(-alpha - beta - 1)*(1 - p)*(-alpha - beta)*np.log(x) + x**(-alpha - beta - 1)*(1 - p))*(alpha*p*x**(-alpha - 1)*np.log(x) - p*x**(-alpha - 1) - x**(-alpha - beta - 1)*(1 - p)*(-alpha - beta)*np.log(x) - x**(-alpha - beta - 1)*(1 - p))/(alpha*p*x**(-alpha - 1) - x**(-alpha - beta - 1)*(1 - p)*(-alpha - beta))**2\u001b[0m\n\u001b[0m                                ^\u001b[0m\n\u001b[0;31mSyntaxError\u001b[0m\u001b[0;31m:\u001b[0m invalid syntax\n"
     ]
    }
   ],
   "source": [
    "import pyparetomixture as pm\n",
    "import numpy as np"
   ]
  },
  {
   "cell_type": "code",
   "execution_count": 3,
   "metadata": {},
   "outputs": [
    {
     "ename": "NameError",
     "evalue": "name 'pm' is not defined",
     "output_type": "error",
     "traceback": [
      "\u001b[0;31m---------------------------------------------------------------------------\u001b[0m",
      "\u001b[0;31mNameError\u001b[0m                                 Traceback (most recent call last)",
      "Cell \u001b[0;32mIn [3], line 1\u001b[0m\n\u001b[0;32m----> 1\u001b[0m pm\u001b[39m.\u001b[39mgradient(pm\u001b[39m.\u001b[39mParetoMixture(\u001b[39m1.\u001b[39m, \u001b[39m1.\u001b[39m, \u001b[39m0.8\u001b[39m), pm\u001b[39m.\u001b[39mSample(np\u001b[39m.\u001b[39marray([\u001b[39m1.\u001b[39m, \u001b[39m2.\u001b[39m, \u001b[39m3.\u001b[39m])))\n",
      "\u001b[0;31mNameError\u001b[0m: name 'pm' is not defined"
     ]
    }
   ],
   "source": [
    "pm.gradient(pm.ParetoMixture(1., 1., 0.8), pm.Sample(np.array([1., 2., 3.])))"
   ]
  },
  {
   "cell_type": "markdown",
   "metadata": {},
   "source": [
    "# Test gradient "
   ]
  },
  {
   "cell_type": "code",
   "execution_count": 1,
   "metadata": {},
   "outputs": [
    {
     "ename": "NameError",
     "evalue": "name 'pm' is not defined",
     "output_type": "error",
     "traceback": [
      "\u001b[0;31m---------------------------------------------------------------------------\u001b[0m",
      "\u001b[0;31mNameError\u001b[0m                                 Traceback (most recent call last)",
      "Cell \u001b[0;32mIn [1], line 1\u001b[0m\n\u001b[0;32m----> 1\u001b[0m sample \u001b[39m=\u001b[39m pm\u001b[39m.\u001b[39mSample(np\u001b[39m.\u001b[39marray([\u001b[39m1.5\u001b[39m, \u001b[39m2.\u001b[39m, \u001b[39m3.\u001b[39m, \u001b[39m5.\u001b[39m, \u001b[39m5.\u001b[39m, \u001b[39m8.\u001b[39m, \u001b[39m11.\u001b[39m]))\n\u001b[1;32m      2\u001b[0m params \u001b[39m=\u001b[39m pm\u001b[39m.\u001b[39mParetoMixture(\u001b[39m2.\u001b[39m, \u001b[39m2.\u001b[39m, \u001b[39m0.8\u001b[39m)\n",
      "\u001b[0;31mNameError\u001b[0m: name 'pm' is not defined"
     ]
    }
   ],
   "source": [
    "sample = pm.Sample(np.array([1.5, 2., 3., 5., 5., 8., 11.]))\n",
    "params = pm.ParetoMixture(2., 2., 0.8)"
   ]
  },
  {
   "cell_type": "code",
   "execution_count": 29,
   "metadata": {},
   "outputs": [
    {
     "name": "stdout",
     "output_type": "stream",
     "text": [
      "Sample(data=array([ 1.5,  2. ,  3. ,  5. ,  5. ,  8. , 11. ]))\n",
      "ParetoMixture(alpha=2.0, beta=2.0, p=0.8)\n"
     ]
    }
   ],
   "source": [
    "print(sample)\n",
    "print(params)"
   ]
  },
  {
   "cell_type": "code",
   "execution_count": 51,
   "metadata": {},
   "outputs": [
    {
     "name": "stdout",
     "output_type": "stream",
     "text": [
      "Gradient(dll_dalpha=-6.492598147300905,\n",
      "         dll_dbeta=0.021296816094479074,\n",
      "         dll_dp=0.5431627288488959)\n"
     ]
    }
   ],
   "source": [
    "pprint(pm.gradient(params, sample))"
   ]
  },
  {
   "cell_type": "code",
   "execution_count": 34,
   "metadata": {},
   "outputs": [
    {
     "name": "stdout",
     "output_type": "stream",
     "text": [
      "Hessian(dll_dalpha2=-1.6539027928823358,\n",
      "        dll_dbeta2=0.14981123517220657,\n",
      "        dll_dp2=-6.654769024241254,\n",
      "        dll_dalphadbeta=0.021296816094479074,\n",
      "        dll_dalphadp=0.5431627288488959,\n",
      "        dll_dbetadp=1.1521762187262206)\n"
     ]
    }
   ],
   "source": [
    "from pprint import pprint\n",
    "pprint(pm.hessian(params, sample))"
   ]
  },
  {
   "cell_type": "code",
   "execution_count": null,
   "metadata": {},
   "outputs": [],
   "source": []
  }
 ],
 "metadata": {
  "kernelspec": {
   "display_name": "py311",
   "language": "python",
   "name": "py311"
  },
  "language_info": {
   "codemirror_mode": {
    "name": "ipython",
    "version": 3
   },
   "file_extension": ".py",
   "mimetype": "text/x-python",
   "name": "python",
   "nbconvert_exporter": "python",
   "pygments_lexer": "ipython3",
   "version": "3.11.0"
  },
  "orig_nbformat": 4,
  "vscode": {
   "interpreter": {
    "hash": "d14a4595f11232c8cb4123b5ea2ed90aee843fbb5f41a2e381f89424a1227b2e"
   }
  }
 },
 "nbformat": 4,
 "nbformat_minor": 2
}
