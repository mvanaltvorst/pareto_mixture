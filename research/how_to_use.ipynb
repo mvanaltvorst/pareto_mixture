{
 "cells": [
  {
   "cell_type": "code",
   "execution_count": 40,
   "metadata": {},
   "outputs": [],
   "source": [
    "import pyparetomixture.fit as pm\n",
    "import pyparetomixture.type as pmt # types\n",
    "import numpy as np\n",
    "from pprint import pprint\n",
    "from tqdm import tqdm, trange\n",
    "import matplotlib.pyplot as plt\n",
    "import seaborn as sns"
   ]
  },
  {
   "attachments": {},
   "cell_type": "markdown",
   "metadata": {},
   "source": [
    "# Calculate gradient and hessian of parameters on sample"
   ]
  },
  {
   "cell_type": "code",
   "execution_count": 16,
   "metadata": {},
   "outputs": [],
   "source": [
    "sample = pmt.Sample(np.array([1.5, 2., 3., 5., 5., 8., 11., 11., 11.]))\n",
    "params = pmt.ParetoMixtureParameters(2., 2., 0.8)"
   ]
  },
  {
   "cell_type": "code",
   "execution_count": 17,
   "metadata": {},
   "outputs": [
    {
     "name": "stdout",
     "output_type": "stream",
     "text": [
      "Sample(data=array([ 1.5,  2. ,  3. ,  5. ,  5. ,  8. , 11. , 11. , 11. ]))\n",
      "ParetoMixtureParameters(alpha=2.0, beta=2.0, p=0.8)\n"
     ]
    }
   ],
   "source": [
    "pprint(sample)\n",
    "pprint(params)"
   ]
  },
  {
   "cell_type": "code",
   "execution_count": 18,
   "metadata": {},
   "outputs": [
    {
     "name": "stdout",
     "output_type": "stream",
     "text": [
      "Gradient(dll_dalpha=-10.29044630606637,\n",
      "         dll_dbeta=-0.2161789972280644,\n",
      "         dll_dp=8.719536405324918)\n"
     ]
    }
   ],
   "source": [
    "pprint(pm.gradient(params, sample))"
   ]
  },
  {
   "cell_type": "code",
   "execution_count": 11,
   "metadata": {},
   "outputs": [
    {
     "name": "stdout",
     "output_type": "stream",
     "text": [
      "Hessian(dll_dalpha2=-2.1518472965995863,\n",
      "        dll_dbeta2=0.18711138904116692,\n",
      "        dll_dp2=-9.652491254931022,\n",
      "        dll_dalphadbeta=0.025183763003124488,\n",
      "        dll_dalphadp=0.5559698890040211,\n",
      "        dll_dbetadp=1.2622099737468828)\n"
     ]
    }
   ],
   "source": [
    "pprint(pm.hessian(params, sample))"
   ]
  },
  {
   "cell_type": "markdown",
   "metadata": {},
   "source": [
    "# Fit parameters"
   ]
  },
  {
   "cell_type": "code",
   "execution_count": 19,
   "metadata": {},
   "outputs": [],
   "source": [
    "# pareto mixture parameters, history of iterations during Newton's method\n",
    "pmp, hist = pm.fit_pareto_mixture_parameters(sample, len(sample.data))"
   ]
  },
  {
   "cell_type": "code",
   "execution_count": 26,
   "metadata": {},
   "outputs": [
    {
     "data": {
      "text/plain": [
       "ParetoMixtureParameters(alpha=0.6010186240737254, beta=-0.0808585579806779, p=0.9999902625563796)"
      ]
     },
     "execution_count": 26,
     "metadata": {},
     "output_type": "execute_result"
    }
   ],
   "source": [
    "pmp"
   ]
  },
  {
   "cell_type": "code",
   "execution_count": 27,
   "metadata": {},
   "outputs": [
    {
     "name": "stdout",
     "output_type": "stream",
     "text": [
      "Gradient(dll_dalpha=0.28537221785945344,\n",
      "         dll_dbeta=2.1609760602168924e-05,\n",
      "         dll_dp=0.09711422868295223)\n"
     ]
    }
   ],
   "source": [
    "# Observe the gradient is close to zero\n",
    "pprint(pm.gradient(pmp, sample))"
   ]
  },
  {
   "cell_type": "code",
   "execution_count": 28,
   "metadata": {},
   "outputs": [
    {
     "name": "stdout",
     "output_type": "stream",
     "text": [
      "Hessian(dll_dalpha2=-24.915404951686135,\n",
      "        dll_dbeta2=-0.00027158079446435194,\n",
      "        dll_dp2=-0.029938687060947673,\n",
      "        dll_dalphadbeta=-0.00031481767525016525,\n",
      "        dll_dalphadp=-2.302671224985355,\n",
      "        dll_dbetadp=-2.2192473163979805)\n"
     ]
    }
   ],
   "source": [
    "pprint(pm.hessian(pmp, sample))"
   ]
  },
  {
   "cell_type": "code",
   "execution_count": null,
   "metadata": {},
   "outputs": [],
   "source": []
  },
  {
   "cell_type": "code",
   "execution_count": 38,
   "metadata": {},
   "outputs": [
    {
     "name": "stderr",
     "output_type": "stream",
     "text": [
      "100%|██████████| 200/200 [00:19<00:00, 10.14it/s]\n"
     ]
    }
   ],
   "source": [
    "# Calculate 200 samples of size 10^6, take peak over threshold with k = 200, store fitted parameters in vals\n",
    "vals = []\n",
    "for _ in trange(200):\n",
    "    try:\n",
    "        sample = np.random.normal(size = 1_000_000)\n",
    "        sample.sort()\n",
    "        pot = sample[-200:] / sample[-200]\n",
    "        pmp, hist = pm.fit_pareto_mixture_parameters(np.array(list(pot)))\n",
    "        vals.append(pmp) #TODO: how to clone nparrays\n",
    "    except Exception as e:\n",
    "        print(e)\n",
    "        print(pot)\n"
   ]
  },
  {
   "cell_type": "code",
   "execution_count": 43,
   "metadata": {},
   "outputs": [
    {
     "data": {
      "image/png": "[encoded data removed]",
      "text/plain": [
       "<Figure size 640x480 with 4 Axes>"
      ]
     },
     "metadata": {},
     "output_type": "display_data"
    }
   ],
   "source": [
    "\n",
    "def describe_stats(vals: list[pm.ParetoMixtureParameters]):\n",
    "    \"\"\"\n",
    "    Plot histograms of alpha, beta and p\n",
    "    \"\"\"\n",
    "    alphas = [x.alpha for x in vals]\n",
    "    betas = [x.beta for x in vals]\n",
    "    ps = [x.p for x in vals]\n",
    "\n",
    "    fig, axs = plt.subplots(2, 2)\n",
    "    sns.histplot(alphas, ax = axs[0,0], bins = 50)\n",
    "    axs[0,0].set_title(\"alpha\")\n",
    "    sns.histplot(betas, ax = axs[0,1], bins = 50)\n",
    "    axs[0,1].set_title(\"beta\")\n",
    "    sns.histplot(ps, ax = axs[1,0], bins = 50)\n",
    "    axs[1,0].set_title(\"p\")\n",
    "    plt.show()\n",
    "\n",
    "describe_stats(vals)"
   ]
  },
  {
   "attachments": {},
   "cell_type": "markdown",
   "metadata": {},
   "source": [
    "Observe we have a lot of fitted parameters with $p=1$.\n",
    "\n",
    "Our hypothesis is that this is a saddle point. We take a single sample with fitted parameters $p=1$."
   ]
  },
  {
   "cell_type": "markdown",
   "metadata": {},
   "source": [
    "# Saddle point"
   ]
  },
  {
   "cell_type": "code",
   "execution_count": 47,
   "metadata": {},
   "outputs": [
    {
     "name": "stdout",
     "output_type": "stream",
     "text": [
      "ParetoMixtureParameters(alpha=0.6010186240737254,\n",
      "                        beta=-0.0808585579806779,\n",
      "                        p=0.9999902625563796)\n"
     ]
    }
   ],
   "source": [
    "sample = pmt.Sample(np.array([1.5, 2., 3., 5., 5., 8., 11., 11., 11.]))\n",
    "pmp, hist = pm.fit_pareto_mixture_parameters(sample, len(sample.data))\n",
    "pprint(pmp)"
   ]
  },
  {
   "cell_type": "code",
   "execution_count": 51,
   "metadata": {},
   "outputs": [
    {
     "data": {
      "text/plain": [
       "array([[-2.49154050e+01, -3.14817675e-04, -2.30267122e+00],\n",
       "       [-3.14817675e-04, -2.71580794e-04, -2.21924732e+00],\n",
       "       [-2.30267122e+00, -2.21924732e+00, -2.99386871e-02]])"
      ]
     },
     "execution_count": 51,
     "metadata": {},
     "output_type": "execute_result"
    }
   ],
   "source": [
    "hess = pm.hessian(pmp, sample)\n",
    "hess = np.array(\n",
    "    [\n",
    "        [hess.dll_dalpha2, hess.dll_dalphadbeta, hess.dll_dalphadp],\n",
    "        [hess.dll_dalphadbeta, hess.dll_dbeta2, hess.dll_dbetadp],  \n",
    "        [hess.dll_dalphadp, hess.dll_dbetadp, hess.dll_dp2],\n",
    "    ]\n",
    ")\n",
    "hess"
   ]
  },
  {
   "cell_type": "code",
   "execution_count": 52,
   "metadata": {},
   "outputs": [
    {
     "data": {
      "text/plain": [
       "(array([-25.12833317,  -2.12033566,   2.30305362]),\n",
       " array([[-0.99571894, -0.06961954, -0.06080218],\n",
       "        [-0.00814414,  0.72132079, -0.69255324],\n",
       "        [-0.09207311,  0.6890932 ,  0.71879977]]))"
      ]
     },
     "execution_count": 52,
     "metadata": {},
     "output_type": "execute_result"
    }
   ],
   "source": [
    "np.linalg.eig(hess)"
   ]
  },
  {
   "attachments": {},
   "cell_type": "markdown",
   "metadata": {},
   "source": [
    "Observe we have positive and negative eigenvalues at our fitted pareto mixture parameter coordinate. This implies that this matrix is not positive semidefinite. This is a saddle point."
   ]
  },
  {
   "attachments": {},
   "cell_type": "markdown",
   "metadata": {},
   "source": [
    "# Frechet\n",
    "Down here are some experiments with the Frechet distribution"
   ]
  },
  {
   "cell_type": "code",
   "execution_count": 421,
   "metadata": {},
   "outputs": [],
   "source": [
    "def create_frechet_dist_sample(size, scale):\n",
    "    exp_vals = np.random.exponential(scale = scale, size = size)\n",
    "    frechet_vals = 1 / exp_vals\n",
    "\n",
    "    return np.sort(frechet_vals)\n",
    "\n",
    "def pot_sample(sample, k):\n",
    "    values_to_retain = sample[-k:]\n",
    "    threshold = np.min(values_to_retain)\n",
    "    return values_to_retain / threshold\n",
    "\n",
    "TRUE_SCALE = 1\n",
    "SIZE = 10000\n",
    "sample = create_frechet_dist_sample(SIZE, TRUE_SCALE)\n",
    "sample = pot_sample(sample, 2000)"
   ]
  },
  {
   "cell_type": "code",
   "execution_count": 422,
   "metadata": {},
   "outputs": [
    {
     "data": {
      "text/plain": [
       "ParetoMixtureParameters(alpha=0.9778480984779534, beta=2.479189058949144, p=1.0735780652769615)"
      ]
     },
     "execution_count": 422,
     "metadata": {},
     "output_type": "execute_result"
    }
   ],
   "source": [
    "params, hist = pm.fit_pareto_mixture_parameters(sample, 2000)\n",
    "hist[\"grad_norm\"] = hist[\"grad\"].apply(lambda x: x.norm())\n",
    "params"
   ]
  },
  {
   "cell_type": "code",
   "execution_count": 423,
   "metadata": {},
   "outputs": [
    {
     "data": {
      "text/plain": [
       "<AxesSubplot: ylabel='ll'>"
      ]
     },
     "execution_count": 423,
     "metadata": {},
     "output_type": "execute_result"
    },
    {
     "data": {
      "image/png": "[encoded data removed]",
      "text/plain": [
       "<Figure size 640x480 with 1 Axes>"
      ]
     },
     "metadata": {},
     "output_type": "display_data"
    }
   ],
   "source": [
    "import seaborn as sns\n",
    "sns.scatterplot(data = hist, x = hist.index, y = \"ll\", hue = \"grad_norm\")"
   ]
  },
  {
   "cell_type": "code",
   "execution_count": 425,
   "metadata": {},
   "outputs": [
    {
     "data": {
      "text/plain": [
       "ParetoMixtureParameters(alpha=0.9778480984779534, beta=2.479189058949144, p=1.0735780652769615)"
      ]
     },
     "execution_count": 425,
     "metadata": {},
     "output_type": "execute_result"
    }
   ],
   "source": [
    "hist.sort_values(by = \"ll\")[\"params\"].iloc[-1]"
   ]
  },
  {
   "cell_type": "code",
   "execution_count": 414,
   "metadata": {},
   "outputs": [
    {
     "data": {
      "text/plain": [
       "Gradient(dll_dalpha=-8.195399914256996e-08, dll_dbeta=-1.1110742344557746e-09, dll_dp=0.02543184057942227)"
      ]
     },
     "execution_count": 414,
     "metadata": {},
     "output_type": "execute_result"
    }
   ],
   "source": [
    "pm.gradient(params, sample)"
   ]
  },
  {
   "cell_type": "code",
   "execution_count": 435,
   "metadata": {},
   "outputs": [
    {
     "data": {
      "text/plain": [
       "1     [-2704.062111744388, -154.79508570408723, -2.6...\n",
       "2     [-3904.5552443261536, -541.4868070550053, 17.2...\n",
       "3     [-3310.640004488155, -368.82282368680774, 6.37...\n",
       "4     [-3040.9106649383634, -254.69849341565882, 1.7...\n",
       "5     [-2719.313384339392, -118.15595562365374, -3.0...\n",
       "6     [-2882.664418344745, -191.52291802858534, -2.2...\n",
       "7     [-3098.543083566202, -297.92690648733225, -1.0...\n",
       "8     [-3395.731063421189, -467.6233400692597, -0.83...\n",
       "9     [-3637.2557090801088, -582.075014726671, -0.40...\n",
       "10    [-3836.316946484586, -680.6109676460029, -0.34...\n",
       "11    [-3899.645967589678, -708.0205304654849, -0.29...\n",
       "12    [-3913.4887748314477, -714.1232170053427, -0.2...\n",
       "13    [-3915.1409174851533, -714.8494281982482, -0.2...\n",
       "14    [-3915.3098655994995, -714.9236632842135, -0.2...\n",
       "15    [-3915.326799361181, -714.931103626902, -0.284...\n",
       "16    [-3915.328493128525, -714.931847830232, -0.284...\n",
       "17    [-3915.3286625092296, -714.9319222522829, -0.2...\n",
       "18    [-3915.328679447307, -714.9319296944898, -0.28...\n",
       "19    [-3915.3286811411267, -714.931930438716, -0.28...\n",
       "20    [-3915.328681310545, -714.9319305131544, -0.28...\n",
       "21    [-3915.328681327459, -714.9319305205871, -0.28...\n",
       "22    [-3915.328681329154, -714.9319305213309, -0.28...\n",
       "23    [-3915.328681329263, -714.9319305213772, -0.28...\n",
       "24    [-3915.328681329342, -714.9319305214135, -0.28...\n",
       "Name: hess, dtype: object"
      ]
     },
     "execution_count": 435,
     "metadata": {},
     "output_type": "execute_result"
    }
   ],
   "source": [
    "hist[\"hess\"].apply(lambda x: x.eigenvalues())"
   ]
  },
  {
   "cell_type": "code",
   "execution_count": null,
   "metadata": {},
   "outputs": [],
   "source": []
  }
 ],
 "metadata": {
  "kernelspec": {
   "display_name": "py311",
   "language": "python",
   "name": "py311"
  },
  "language_info": {
   "codemirror_mode": {
    "name": "ipython",
    "version": 3
   },
   "file_extension": ".py",
   "mimetype": "text/x-python",
   "name": "python",
   "nbconvert_exporter": "python",
   "pygments_lexer": "ipython3",
   "version": "3.11.0"
  },
  "orig_nbformat": 4,
  "vscode": {
   "interpreter": {
    "hash": "d14a4595f11232c8cb4123b5ea2ed90aee843fbb5f41a2e381f89424a1227b2e"
   }
  }
 },
 "nbformat": 4,
 "nbformat_minor": 2
}
