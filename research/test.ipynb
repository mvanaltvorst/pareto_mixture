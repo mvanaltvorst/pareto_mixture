{
 "cells": [
  {
   "cell_type": "code",
   "execution_count": 1,
   "metadata": {},
   "outputs": [],
   "source": [
    "%load_ext autoreload\n",
    "%autoreload 2"
   ]
  },
  {
   "cell_type": "code",
   "execution_count": 6,
   "metadata": {},
   "outputs": [],
   "source": [
    "import pyparetomixture.fit as pm\n",
    "import pyparetomixture.type as pmt\n",
    "import numpy as np"
   ]
  },
  {
   "cell_type": "code",
   "execution_count": 7,
   "metadata": {},
   "outputs": [
    {
     "data": {
      "text/plain": [
       "Gradient(dll_dalpha=0.870145292676707, dll_dbeta=0.04252118931637619, dll_dp=-0.4761904761904762)"
      ]
     },
     "execution_count": 7,
     "metadata": {},
     "output_type": "execute_result"
    }
   ],
   "source": [
    "pm.gradient(pm.ParetoMixtureParameters(1., 1., 0.8), pmt.Sample(np.array([1., 2., 3.])))"
   ]
  },
  {
   "cell_type": "markdown",
   "metadata": {},
   "source": [
    "# Test gradient "
   ]
  },
  {
   "cell_type": "code",
   "execution_count": 45,
   "metadata": {},
   "outputs": [],
   "source": [
    "sample = pmt.Sample(np.array([1.5, 2., 3., 5., 5., 8., 11., 11., 11.]))\n",
    "params = pmt.ParetoMixtureParameters(2., 2., 0.8)"
   ]
  },
  {
   "cell_type": "code",
   "execution_count": 46,
   "metadata": {},
   "outputs": [
    {
     "name": "stdout",
     "output_type": "stream",
     "text": [
      "Sample(data=array([ 1.5,  2. ,  3. ,  5. ,  5. ,  8. , 11. , 11. , 11. ]))\n",
      "ParetoMixtureParameters(alpha=2.0, beta=2.0, p=0.8)\n"
     ]
    }
   ],
   "source": [
    "print(sample)\n",
    "print(params)"
   ]
  },
  {
   "cell_type": "code",
   "execution_count": 47,
   "metadata": {},
   "outputs": [
    {
     "name": "stdout",
     "output_type": "stream",
     "text": [
      "Gradient(dll_dalpha=-10.29044630606637,\n",
      "         dll_dbeta=-0.2161789972280644,\n",
      "         dll_dp=8.719536405324918)\n"
     ]
    }
   ],
   "source": [
    "from pprint import pprint\n",
    "pprint(pm.gradient(params, sample))"
   ]
  },
  {
   "cell_type": "code",
   "execution_count": 48,
   "metadata": {},
   "outputs": [
    {
     "name": "stdout",
     "output_type": "stream",
     "text": [
      "Hessian(dll_dalpha2=-2.1518472965995863,\n",
      "        dll_dbeta2=0.18711138904116692,\n",
      "        dll_dp2=-9.652491254931022,\n",
      "        dll_dalphadbeta=0.025183763003124488,\n",
      "        dll_dalphadp=0.5559698890040211,\n",
      "        dll_dbetadp=1.2622099737468828)\n"
     ]
    }
   ],
   "source": [
    "from pprint import pprint\n",
    "pprint(pm.hessian(params, sample))"
   ]
  },
  {
   "cell_type": "code",
   "execution_count": 49,
   "metadata": {},
   "outputs": [],
   "source": [
    "pmp = pm.fit_pareto_mixture_parameters(sample, len(sample.data))"
   ]
  },
  {
   "cell_type": "code",
   "execution_count": 53,
   "metadata": {},
   "outputs": [
    {
     "data": {
      "text/plain": [
       "ParetoMixtureParameters(alpha=0.610414367865165, beta=0.0022798996339599966, p=0.012351655582713773)"
      ]
     },
     "execution_count": 53,
     "metadata": {},
     "output_type": "execute_result"
    }
   ],
   "source": [
    "pmp"
   ]
  },
  {
   "cell_type": "code",
   "execution_count": 50,
   "metadata": {},
   "outputs": [
    {
     "data": {
      "text/plain": [
       "Gradient(dll_dalpha=0.0006684492330722991, dll_dbeta=0.0001196685736670755, dll_dp=-5.070682606503861e-05)"
      ]
     },
     "execution_count": 50,
     "metadata": {},
     "output_type": "execute_result"
    }
   ],
   "source": [
    "pm.gradient(pmp, sample)"
   ]
  },
  {
   "cell_type": "code",
   "execution_count": 51,
   "metadata": {},
   "outputs": [
    {
     "data": {
      "text/plain": [
       "Hessian(dll_dalpha2=-23.977005633889853, dll_dbeta2=-23.622206520145404, dll_dp2=-2.4057408871091485e-05, dll_dalphadbeta=-23.67866600356146, dll_dalphadp=0.05486397542949215, dll_dbetadp=0.010303960953606417)"
      ]
     },
     "execution_count": 51,
     "metadata": {},
     "output_type": "execute_result"
    }
   ],
   "source": [
    "pm.hessian(pmp, sample)"
   ]
  },
  {
   "cell_type": "code",
   "execution_count": null,
   "metadata": {},
   "outputs": [],
   "source": []
  }
 ],
 "metadata": {
  "kernelspec": {
   "display_name": "py311",
   "language": "python",
   "name": "py311"
  },
  "language_info": {
   "codemirror_mode": {
    "name": "ipython",
    "version": 3
   },
   "file_extension": ".py",
   "mimetype": "text/x-python",
   "name": "python",
   "nbconvert_exporter": "python",
   "pygments_lexer": "ipython3",
   "version": "3.11.0"
  },
  "orig_nbformat": 4,
  "vscode": {
   "interpreter": {
    "hash": "d14a4595f11232c8cb4123b5ea2ed90aee843fbb5f41a2e381f89424a1227b2e"
   }
  }
 },
 "nbformat": 4,
 "nbformat_minor": 2
}
