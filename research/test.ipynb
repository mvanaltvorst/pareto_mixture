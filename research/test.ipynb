{
 "cells": [
  {
   "cell_type": "code",
   "execution_count": 1,
   "metadata": {},
   "outputs": [],
   "source": [
    "%load_ext autoreload\n",
    "%autoreload 2"
   ]
  },
  {
   "cell_type": "code",
   "execution_count": 2,
   "metadata": {},
   "outputs": [],
   "source": [
    "import pyparetomixture.fit as pm\n",
    "import pyparetomixture.type as pmt\n",
    "import numpy as np"
   ]
  },
  {
   "cell_type": "code",
   "execution_count": 3,
   "metadata": {},
   "outputs": [
    {
     "data": {
      "text/plain": [
       "Gradient(dll_dalpha=0.870145292676707, dll_dbeta=0.04252118931637619, dll_dp=-0.4761904761904762)"
      ]
     },
     "execution_count": 3,
     "metadata": {},
     "output_type": "execute_result"
    }
   ],
   "source": [
    "pm.gradient(pm.ParetoMixtureParameters(1., 1., 0.8), pmt.Sample(np.array([1., 2., 3.])))"
   ]
  },
  {
   "cell_type": "markdown",
   "metadata": {},
   "source": [
    "# Test gradient "
   ]
  },
  {
   "cell_type": "code",
   "execution_count": 4,
   "metadata": {},
   "outputs": [],
   "source": [
    "sample = pmt.Sample(np.array([1.5, 2., 3., 5., 5., 8., 11., 11., 11.]))\n",
    "params = pmt.ParetoMixtureParameters(2., 2., 0.8)"
   ]
  },
  {
   "cell_type": "code",
   "execution_count": 5,
   "metadata": {},
   "outputs": [
    {
     "name": "stdout",
     "output_type": "stream",
     "text": [
      "Sample(data=array([ 1.5,  2. ,  3. ,  5. ,  5. ,  8. , 11. , 11. , 11. ]))\n",
      "ParetoMixtureParameters(alpha=2.0, beta=2.0, p=0.8)\n"
     ]
    }
   ],
   "source": [
    "print(sample)\n",
    "print(params)"
   ]
  },
  {
   "cell_type": "code",
   "execution_count": 6,
   "metadata": {},
   "outputs": [
    {
     "name": "stdout",
     "output_type": "stream",
     "text": [
      "Gradient(dll_dalpha=-10.29044630606637,\n",
      "         dll_dbeta=-0.2161789972280644,\n",
      "         dll_dp=8.719536405324918)\n"
     ]
    }
   ],
   "source": [
    "from pprint import pprint\n",
    "pprint(pm.gradient(params, sample))"
   ]
  },
  {
   "cell_type": "code",
   "execution_count": 7,
   "metadata": {},
   "outputs": [
    {
     "name": "stdout",
     "output_type": "stream",
     "text": [
      "Hessian(dll_dalpha2=-2.1518472965995863,\n",
      "        dll_dbeta2=0.18711138904116692,\n",
      "        dll_dp2=-9.652491254931022,\n",
      "        dll_dalphadbeta=0.025183763003124488,\n",
      "        dll_dalphadp=0.5559698890040211,\n",
      "        dll_dbetadp=1.2622099737468828)\n"
     ]
    }
   ],
   "source": [
    "from pprint import pprint\n",
    "pprint(pm.hessian(params, sample))"
   ]
  },
  {
   "cell_type": "code",
   "execution_count": 8,
   "metadata": {},
   "outputs": [],
   "source": [
    "pmp = pm.fit_pareto_mixture_parameters(sample, len(sample.data))"
   ]
  },
  {
   "cell_type": "code",
   "execution_count": 9,
   "metadata": {},
   "outputs": [
    {
     "data": {
      "text/plain": [
       "(ParetoMixtureParameters(alpha=0.6010186305654946, beta=-0.0808587115708376, p=0.9999902625408836),\n",
       "        alpha       beta         p         ll  \\\n",
       " 1        2.0        1.0       0.8 -45.528228   \n",
       " 2     0.0001   0.594699  1.053251 -14.415672   \n",
       " 3     0.0001   0.632942  1.087921 -14.226278   \n",
       " 4     0.0001   0.661913   1.14127 -13.939861   \n",
       " 5     0.0001   0.694738  1.220065 -13.521896   \n",
       " 6     0.0001   0.740414  1.333712 -12.926956   \n",
       " 7     0.0001   0.809569  1.496902 -12.089095   \n",
       " 8     0.0001   0.932892  1.727718 -10.920659   \n",
       " 9     0.0001   0.846273       2.0 -10.004206   \n",
       " 10    0.0001   1.340685       2.0  -9.348168   \n",
       " 11    0.0001   1.539187       2.0  -9.193696   \n",
       " 12    0.0001   1.778255       2.0  -9.053629   \n",
       " 13    0.0001   2.051688       2.0  -8.935374   \n",
       " 14    0.0001   2.354436       2.0  -8.839194   \n",
       " 15    0.0001   2.681718       2.0  -8.762427   \n",
       " 16    0.0001   3.027934       2.0   -8.70178   \n",
       " 17    0.0001   3.384279       2.0   -8.65442   \n",
       " 18    0.0001   3.732708       2.0  -8.618505   \n",
       " 19    0.0001   4.030898       2.0  -8.593781   \n",
       " 20    0.0001    4.18228       2.0  -8.582921   \n",
       " 21  0.000114   4.083852  1.720817  -9.920129   \n",
       " 22  0.000146   3.778482  1.116929 -13.728868   \n",
       " 23    0.0001   4.011586  1.131897 -13.607908   \n",
       " 24    0.0001   4.717137  1.160799   -13.3756   \n",
       " 25  0.000239   3.749248  1.267424 -12.627523   \n",
       " 26  0.000775   2.718197   1.43714 -11.616113   \n",
       " 27    0.0001   2.932438  1.573423 -10.800913   \n",
       " 28    0.0001   3.296203  1.855795  -9.321125   \n",
       " 29    0.0001   3.650804       2.0  -8.626191   \n",
       " 30    0.0001   3.967325       2.0   -8.59866   \n",
       " 31    0.0001   4.167164       2.0   -8.58396   \n",
       " 32  0.000108   4.114749  1.857993  -9.239885   \n",
       " 33  0.000125   3.997775  1.591936 -10.612392   \n",
       " 34  0.000166   3.582835   0.94737 -15.159223   \n",
       " 35  0.000451   4.326626  0.930789 -15.324074   \n",
       " 36  0.001019   5.401141  0.912246 -15.517544   \n",
       " 37  0.002151   7.188082  0.900651 -15.655795   \n",
       " 38  0.004411    9.98989  0.918378 -15.518708   \n",
       " 39  0.008733  11.479771  0.963269 -15.153945   \n",
       " 40  0.016775   9.884444  0.994181 -14.988048   \n",
       " 41  0.031558   7.764871  0.998342 -15.167649   \n",
       " 42  0.058552   5.704202  0.999419 -15.554471   \n",
       " 43  0.106247     3.6802   0.99978 -16.251812   \n",
       " 44  0.185308   1.775806  0.999925 -17.411856   \n",
       " 45   0.30166   0.571518  0.999993 -19.120419   \n",
       " 46  0.439482  -0.115642  0.999983  -21.14485   \n",
       " 47  0.551302  -0.103464  0.999986 -22.787403   \n",
       " 48  0.601019  -0.080859   0.99999 -23.517715   \n",
       " \n",
       "                                                  grad  \\\n",
       " 1   Gradient(dll_dalpha=-10.314597420609072, dll_d...   \n",
       " 2   Gradient(dll_dalpha=-868.3014656890605, dll_db...   \n",
       " 3   Gradient(dll_dalpha=-547.6496354338523, dll_db...   \n",
       " 4   Gradient(dll_dalpha=-361.42079950177873, dll_d...   \n",
       " 5   Gradient(dll_dalpha=-252.42567944677472, dll_d...   \n",
       " 6   Gradient(dll_dalpha=-187.72802267531065, dll_d...   \n",
       " 7   Gradient(dll_dalpha=-149.78017969956443, dll_d...   \n",
       " 8   Gradient(dll_dalpha=-132.97006089989512, dll_d...   \n",
       " 9   Gradient(dll_dalpha=-103.86995254411518, dll_d...   \n",
       " 10  Gradient(dll_dalpha=-182.7981131684179, dll_db...   \n",
       " 11  Gradient(dll_dalpha=-242.10971658896705, dll_d...   \n",
       " 12  Gradient(dll_dalpha=-350.5609466448856, dll_db...   \n",
       " 13  Gradient(dll_dalpha=-554.8562241758179, dll_db...   \n",
       " 14  Gradient(dll_dalpha=-958.1120537840528, dll_db...   \n",
       " 15  Gradient(dll_dalpha=-1801.2782864806895, dll_d...   \n",
       " 16  Gradient(dll_dalpha=-3696.268833096058, dll_db...   \n",
       " 17  Gradient(dll_dalpha=-8434.536807388653, dll_db...   \n",
       " 18  Gradient(dll_dalpha=-23067.906468407247, dll_d...   \n",
       " 19  Gradient(dll_dalpha=-111297.28171797315, dll_d...   \n",
       " 20  Gradient(dll_dalpha=382508.2151635843, dll_dbe...   \n",
       " 21  Gradient(dll_dalpha=161072.94759457192, dll_db...   \n",
       " 22  Gradient(dll_dalpha=-106866.69954324799, dll_d...   \n",
       " 23  Gradient(dll_dalpha=-47505.369325695225, dll_d...   \n",
       " 24  Gradient(dll_dalpha=39157.20529941995, dll_dbe...   \n",
       " 25  Gradient(dll_dalpha=8561.879716160147, dll_dbe...   \n",
       " 26  Gradient(dll_dalpha=-7441.204963213212, dll_db...   \n",
       " 27  Gradient(dll_dalpha=-4245.362115744572, dll_db...   \n",
       " 28  Gradient(dll_dalpha=-7481.703308479378, dll_db...   \n",
       " 29  Gradient(dll_dalpha=-17621.396442597284, dll_d...   \n",
       " 30  Gradient(dll_dalpha=-67537.63819944992, dll_db...   \n",
       " 31  Gradient(dll_dalpha=635764.1869196394, dll_dbe...   \n",
       " 32  Gradient(dll_dalpha=306667.13872975716, dll_db...   \n",
       " 33  Gradient(dll_dalpha=125001.8458917932, dll_dbe...   \n",
       " 34  Gradient(dll_dalpha=21167.431609605243, dll_db...   \n",
       " 35  Gradient(dll_dalpha=11568.311168521637, dll_db...   \n",
       " 36  Gradient(dll_dalpha=6216.13100616712, dll_dbet...   \n",
       " 37  Gradient(dll_dalpha=3334.5445197739896, dll_db...   \n",
       " 38  Gradient(dll_dalpha=1811.032566130078, dll_dbe...   \n",
       " 39  Gradient(dll_dalpha=976.8631993083694, dll_dbe...   \n",
       " 40  Gradient(dll_dalpha=518.0873557233788, dll_dbe...   \n",
       " 41  Gradient(dll_dalpha=269.891180586047, dll_dbet...   \n",
       " 42  Gradient(dll_dalpha=138.90436250374105, dll_db...   \n",
       " 43  Gradient(dll_dalpha=69.99606503151102, dll_dbe...   \n",
       " 44  Gradient(dll_dalpha=33.874175089396026, dll_db...   \n",
       " 45  Gradient(dll_dalpha=15.145504719037088, dll_db...   \n",
       " 46  Gradient(dll_dalpha=5.7895269117193795, dll_db...   \n",
       " 47  Gradient(dll_dalpha=1.635816586729042, dll_dbe...   \n",
       " 48  Gradient(dll_dalpha=0.28537205619843076, dll_d...   \n",
       " \n",
       "                                                  hess  \n",
       " 1   Hessian(dll_dalpha2=-2.127193585989155, dll_db...  \n",
       " 2   Hessian(dll_dalpha2=-93336.4856746988, dll_dbe...  \n",
       " 3   Hessian(dll_dalpha2=-36995.32295712304, dll_db...  \n",
       " 4   Hessian(dll_dalpha2=-15893.370705554351, dll_d...  \n",
       " 5   Hessian(dll_dalpha2=-7609.077990383297, dll_db...  \n",
       " 6   Hessian(dll_dalpha2=-4132.786463881012, dll_db...  \n",
       " 7   Hessian(dll_dalpha2=-2608.7571210122974, dll_d...  \n",
       " 8   Hessian(dll_dalpha2=-2111.3389949345137, dll_d...  \n",
       " 9   Hessian(dll_dalpha2=-1174.2924862238406, dll_d...  \n",
       " 10  Hessian(dll_dalpha2=-4900.068453258376, dll_db...  \n",
       " 11  Hessian(dll_dalpha2=-9493.503225744193, dll_db...  \n",
       " 12  Hessian(dll_dalpha2=-22047.743326402902, dll_d...  \n",
       " 13  Hessian(dll_dalpha2=-60807.134593598705, dll_d...  \n",
       " 14  Hessian(dll_dalpha2=-197473.7249961796, dll_db...  \n",
       " 15  Hessian(dll_dalpha2=-751709.2555249863, dll_db...  \n",
       " 16  Hessian(dll_dalpha2=-3380627.128390028, dll_db...  \n",
       " 17  Hessian(dll_dalpha2=-18760163.150188122, dll_d...  \n",
       " 18  Hessian(dll_dalpha2=-150962822.71484032, dll_d...  \n",
       " 19  Hessian(dll_dalpha2=-3880869609.9870095, dll_d...  \n",
       " 20  Hessian(dll_dalpha2=-50048759862.578705, dll_d...  \n",
       " 21  Hessian(dll_dalpha2=-9230598686.609545, dll_db...  \n",
       " 22  Hessian(dll_dalpha2=-18289650534.2183, dll_dbe...  \n",
       " 23  Hessian(dll_dalpha2=-8314413422.25255, dll_dbe...  \n",
       " 24  Hessian(dll_dalpha2=-635845933.7334718, dll_db...  \n",
       " 25  Hessian(dll_dalpha2=-286675777.0485954, dll_db...  \n",
       " 26  Hessian(dll_dalpha2=-15274423.64706988, dll_db...  \n",
       " 27  Hessian(dll_dalpha2=-4418293.093378136, dll_db...  \n",
       " 28  Hessian(dll_dalpha2=-14569092.161524277, dll_d...  \n",
       " 29  Hessian(dll_dalpha2=-86394281.38643399, dll_db...  \n",
       " 30  Hessian(dll_dalpha2=-1391277299.4041023, dll_d...  \n",
       " 31  Hessian(dll_dalpha2=-136765675057.79065, dll_d...  \n",
       " 32  Hessian(dll_dalpha2=-32350179990.11125, dll_db...  \n",
       " 33  Hessian(dll_dalpha2=-5663614508.716191, dll_db...  \n",
       " 34  Hessian(dll_dalpha2=-88595291.90191092, dll_db...  \n",
       " 35  Hessian(dll_dalpha2=-21876629.0386647, dll_dbe...  \n",
       " 36  Hessian(dll_dalpha2=-5642653.677658134, dll_db...  \n",
       " 37  Hessian(dll_dalpha2=-1478911.061834375, dll_db...  \n",
       " 38  Hessian(dll_dalpha2=-397737.2290026464, dll_db...  \n",
       " 39  Hessian(dll_dalpha2=-110443.87056188831, dll_d...  \n",
       " 40  Hessian(dll_dalpha2=-31549.84169078152, dll_db...  \n",
       " 41  Hessian(dll_dalpha2=-8998.706223122823, dll_db...  \n",
       " 42  Hessian(dll_dalpha2=-2621.229132442614, dll_db...  \n",
       " 43  Hessian(dll_dalpha2=-796.8445433286656, dll_db...  \n",
       " 44  Hessian(dll_dalpha2=-262.04490281904384, dll_d...  \n",
       " 45  Hessian(dll_dalpha2=-98.90125135976317, dll_db...  \n",
       " 46  Hessian(dll_dalpha2=-46.59771033310038, dll_db...  \n",
       " 47  Hessian(dll_dalpha2=-29.611896999678326, dll_d...  \n",
       " 48  Hessian(dll_dalpha2=-24.91540441372854, dll_db...  )"
      ]
     },
     "execution_count": 9,
     "metadata": {},
     "output_type": "execute_result"
    }
   ],
   "source": [
    "pmp"
   ]
  },
  {
   "cell_type": "code",
   "execution_count": 10,
   "metadata": {},
   "outputs": [
    {
     "ename": "AttributeError",
     "evalue": "'tuple' object has no attribute 'alpha'",
     "output_type": "error",
     "traceback": [
      "\u001b[0;31m---------------------------------------------------------------------------\u001b[0m",
      "\u001b[0;31mAttributeError\u001b[0m                            Traceback (most recent call last)",
      "Cell \u001b[0;32mIn[10], line 1\u001b[0m\n\u001b[0;32m----> 1\u001b[0m pm\u001b[39m.\u001b[39mgradient(pmp, sample)\n",
      "File \u001b[0;32m~/private/public_pareto_mixture/pareto_mixture/src/pyparetomixture/fit.py:109\u001b[0m, in \u001b[0;36mgradient\u001b[0;34m(pm, sample)\u001b[0m\n\u001b[1;32m    105\u001b[0m \u001b[39mdef\u001b[39;00m \u001b[39mgradient\u001b[39m(pm: ParetoMixtureParameters, sample: Sample) \u001b[39m-\u001b[39m\u001b[39m>\u001b[39m Gradient:\n\u001b[1;32m    106\u001b[0m     \u001b[39m\"\"\"\u001b[39;00m\n\u001b[1;32m    107\u001b[0m \u001b[39m    Returns the gradient of the loglikelihood of the sample given the parameters\u001b[39;00m\n\u001b[1;32m    108\u001b[0m \u001b[39m    \"\"\"\u001b[39;00m\n\u001b[0;32m--> 109\u001b[0m     alpha \u001b[39m=\u001b[39m pm\u001b[39m.\u001b[39malpha\n\u001b[1;32m    110\u001b[0m     beta \u001b[39m=\u001b[39m pm\u001b[39m.\u001b[39mbeta\n\u001b[1;32m    111\u001b[0m     p \u001b[39m=\u001b[39m pm\u001b[39m.\u001b[39mp\n",
      "\u001b[0;31mAttributeError\u001b[0m: 'tuple' object has no attribute 'alpha'"
     ]
    }
   ],
   "source": [
    "pm.gradient(pmp, sample)"
   ]
  },
  {
   "cell_type": "code",
   "execution_count": 11,
   "metadata": {},
   "outputs": [
    {
     "ename": "AttributeError",
     "evalue": "'tuple' object has no attribute 'alpha'",
     "output_type": "error",
     "traceback": [
      "\u001b[0;31m---------------------------------------------------------------------------\u001b[0m",
      "\u001b[0;31mAttributeError\u001b[0m                            Traceback (most recent call last)",
      "Cell \u001b[0;32mIn[11], line 1\u001b[0m\n\u001b[0;32m----> 1\u001b[0m pm\u001b[39m.\u001b[39mhessian(pmp, sample)\n",
      "File \u001b[0;32m~/private/public_pareto_mixture/pareto_mixture/src/pyparetomixture/fit.py:129\u001b[0m, in \u001b[0;36mhessian\u001b[0;34m(pm, sample)\u001b[0m\n\u001b[1;32m    125\u001b[0m \u001b[39mdef\u001b[39;00m \u001b[39mhessian\u001b[39m(pm: ParetoMixtureParameters, sample: Sample) \u001b[39m-\u001b[39m\u001b[39m>\u001b[39m Hessian:\n\u001b[1;32m    126\u001b[0m     \u001b[39m\"\"\"\u001b[39;00m\n\u001b[1;32m    127\u001b[0m \u001b[39m    Returns the hessian of the loglikelihood of the sample given the parameters\u001b[39;00m\n\u001b[1;32m    128\u001b[0m \u001b[39m    \"\"\"\u001b[39;00m\n\u001b[0;32m--> 129\u001b[0m     alpha \u001b[39m=\u001b[39m pm\u001b[39m.\u001b[39malpha\n\u001b[1;32m    130\u001b[0m     beta \u001b[39m=\u001b[39m pm\u001b[39m.\u001b[39mbeta\n\u001b[1;32m    131\u001b[0m     p \u001b[39m=\u001b[39m pm\u001b[39m.\u001b[39mp\n",
      "\u001b[0;31mAttributeError\u001b[0m: 'tuple' object has no attribute 'alpha'"
     ]
    }
   ],
   "source": [
    "pm.hessian(pmp, sample)"
   ]
  },
  {
   "cell_type": "code",
   "execution_count": null,
   "metadata": {},
   "outputs": [],
   "source": []
  }
 ],
 "metadata": {
  "kernelspec": {
   "display_name": "develop",
   "language": "python",
   "name": "develop"
  },
  "language_info": {
   "codemirror_mode": {
    "name": "ipython",
    "version": 3
   },
   "file_extension": ".py",
   "mimetype": "text/x-python",
   "name": "python",
   "nbconvert_exporter": "python",
   "pygments_lexer": "ipython3",
   "version": "3.11.0"
  },
  "orig_nbformat": 4,
  "vscode": {
   "interpreter": {
    "hash": "d14a4595f11232c8cb4123b5ea2ed90aee843fbb5f41a2e381f89424a1227b2e"
   }
  }
 },
 "nbformat": 4,
 "nbformat_minor": 2
}
